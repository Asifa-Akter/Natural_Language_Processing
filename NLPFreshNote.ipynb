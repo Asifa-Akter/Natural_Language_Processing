{
 "cells": [
  {
   "cell_type": "markdown",
   "metadata": {},
   "source": [
    "# PART 1"
   ]
  },
  {
   "cell_type": "code",
   "execution_count": 9,
   "metadata": {},
   "outputs": [
    {
     "name": "stdout",
     "output_type": "stream",
     "text": [
      "Requirement already satisfied: nltk in /Library/Frameworks/Python.framework/Versions/3.11/lib/python3.11/site-packages (3.8.1)\n",
      "Requirement already satisfied: click in /Library/Frameworks/Python.framework/Versions/3.11/lib/python3.11/site-packages (from nltk) (8.1.6)\n",
      "Requirement already satisfied: joblib in /Library/Frameworks/Python.framework/Versions/3.11/lib/python3.11/site-packages (from nltk) (1.3.2)\n",
      "Requirement already satisfied: regex>=2021.8.3 in /Library/Frameworks/Python.framework/Versions/3.11/lib/python3.11/site-packages (from nltk) (2023.8.8)\n",
      "Requirement already satisfied: tqdm in /Library/Frameworks/Python.framework/Versions/3.11/lib/python3.11/site-packages (from nltk) (4.65.0)\n"
     ]
    }
   ],
   "source": [
    "!pip install nltk\n",
    "\n"
   ]
  },
  {
   "cell_type": "code",
   "execution_count": 10,
   "metadata": {},
   "outputs": [
    {
     "name": "stdout",
     "output_type": "stream",
     "text": [
      "Defaulting to user installation because normal site-packages is not writeable\n",
      "Requirement already satisfied: scikit-learn in /Users/asifa/Library/Python/3.9/lib/python/site-packages (1.3.0)\n",
      "Requirement already satisfied: numpy>=1.17.3 in /Users/asifa/Library/Python/3.9/lib/python/site-packages (from scikit-learn) (1.25.2)\n",
      "Requirement already satisfied: threadpoolctl>=2.0.0 in /Users/asifa/Library/Python/3.9/lib/python/site-packages (from scikit-learn) (3.2.0)\n",
      "Requirement already satisfied: joblib>=1.1.1 in /Users/asifa/Library/Python/3.9/lib/python/site-packages (from scikit-learn) (1.3.2)\n",
      "Requirement already satisfied: scipy>=1.5.0 in /Users/asifa/Library/Python/3.9/lib/python/site-packages (from scikit-learn) (1.11.2)\n",
      "\u001b[33mWARNING: You are using pip version 21.2.4; however, version 23.2.1 is available.\n",
      "You should consider upgrading via the '/Library/Developer/CommandLineTools/usr/bin/python3 -m pip install --upgrade pip' command.\u001b[0m\n",
      "Note: you may need to restart the kernel to use updated packages.\n"
     ]
    }
   ],
   "source": [
    "pip install scikit-learn"
   ]
  },
  {
   "cell_type": "code",
   "execution_count": 11,
   "metadata": {},
   "outputs": [
    {
     "name": "stdout",
     "output_type": "stream",
     "text": [
      "Defaulting to user installation because normal site-packages is not writeable\n",
      "Requirement already satisfied: nltk in /Users/asifa/Library/Python/3.9/lib/python/site-packages (3.8.1)\n",
      "Requirement already satisfied: click in /Users/asifa/Library/Python/3.9/lib/python/site-packages (from nltk) (8.1.7)\n",
      "Requirement already satisfied: tqdm in /Users/asifa/Library/Python/3.9/lib/python/site-packages (from nltk) (4.66.1)\n",
      "Requirement already satisfied: joblib in /Users/asifa/Library/Python/3.9/lib/python/site-packages (from nltk) (1.3.2)\n",
      "Requirement already satisfied: regex>=2021.8.3 in /Users/asifa/Library/Python/3.9/lib/python/site-packages (from nltk) (2023.8.8)\n",
      "\u001b[33mWARNING: You are using pip version 21.2.4; however, version 23.2.1 is available.\n",
      "You should consider upgrading via the '/Library/Developer/CommandLineTools/usr/bin/python3 -m pip install --upgrade pip' command.\u001b[0m\n"
     ]
    }
   ],
   "source": [
    "!pip3 install nltk"
   ]
  },
  {
   "cell_type": "markdown",
   "metadata": {},
   "source": [
    "## Import Lib"
   ]
  },
  {
   "cell_type": "code",
   "execution_count": 12,
   "metadata": {},
   "outputs": [],
   "source": [
    "#import the libraris\n",
    "import nltk\n",
    "from nltk.stem import PorterStemmer\n",
    "from nltk.corpus import stopwords\n",
    "from nltk.stem import WordNetLemmatizer\n",
    "\n"
   ]
  },
  {
   "cell_type": "code",
   "execution_count": 13,
   "metadata": {},
   "outputs": [],
   "source": [
    "lemmatizer=WordNetLemmatizer()"
   ]
  },
  {
   "cell_type": "markdown",
   "metadata": {},
   "source": [
    "## took a random paragraph"
   ]
  },
  {
   "cell_type": "code",
   "execution_count": 14,
   "metadata": {},
   "outputs": [
    {
     "name": "stdout",
     "output_type": "stream",
     "text": [
      "Hasina; born 28 September 1947) is a Bangladeshi politician who has served as the prime minister of Bangladesh since January 2009. Sheikh Hasina was among Time's 100 most influential people in the world in 2018.[1]\n",
      "\n",
      "As the autocratic regime of Hussain Muhammad Ershad came to an end, Hasina, leader of the Awami League (AL), and daughter of the founding father and first president of Bangladesh, Bangabandhu Sheikh Mujibur Rahman, lost the 1991 election to Khaleda Zia, with whom she had collaborated against Ershad.[2][3] As leader of the opposition, Hasina accused Zia's Bangladesh Nationalist Party (BNP) of electoral dishonesty and boycotted the parliament, which was followed by violent demonstrations and political turmoil.[4] Zia resigned to a caretaker government, followed by Hasina becoming prime minister after the June 1996 election. While the country began to experience economic growth and a reduction in poverty, it remained in political tumult during her first term, which ended in July 2001 after an electoral defeat from Zia. This was the first full five-year term for a Bangladeshi prime minister since it became an independent country.\n",
      "\n",
      "During the 2006–2008 political crisis, Hasina was detained on extortion charges. After her release from jail, she won the 2008 election. In 2014, she was re-elected for a third term in an election that was boycotted by the BNP and criticised by international observers. In 2017, after nearly a million Rohingya entered the country, fleeing genocide in Myanmar, Hasina received credit and praise for giving them refuge and assistance. She won her fourth term after the 2018 election, which was marred with violence and criticised by the opposition as being rigged. Having served for a combined total of over 19 years, she is the longest serving prime minister in the history of Bangladesh. As of 24 August 2023, she is the world's longest-serving female head of government in history.[5][6][7]\n",
      "\n"
     ]
    }
   ],
   "source": [
    "paragraph='''Hasina; born 28 September 1947) is a Bangladeshi politician who has served as the prime minister of Bangladesh since January 2009. Sheikh Hasina was among Time's 100 most influential people in the world in 2018.[1]\n",
    "\n",
    "As the autocratic regime of Hussain Muhammad Ershad came to an end, Hasina, leader of the Awami League (AL), and daughter of the founding father and first president of Bangladesh, Bangabandhu Sheikh Mujibur Rahman, lost the 1991 election to Khaleda Zia, with whom she had collaborated against Ershad.[2][3] As leader of the opposition, Hasina accused Zia's Bangladesh Nationalist Party (BNP) of electoral dishonesty and boycotted the parliament, which was followed by violent demonstrations and political turmoil.[4] Zia resigned to a caretaker government, followed by Hasina becoming prime minister after the June 1996 election. While the country began to experience economic growth and a reduction in poverty, it remained in political tumult during her first term, which ended in July 2001 after an electoral defeat from Zia. This was the first full five-year term for a Bangladeshi prime minister since it became an independent country.\n",
    "\n",
    "During the 2006–2008 political crisis, Hasina was detained on extortion charges. After her release from jail, she won the 2008 election. In 2014, she was re-elected for a third term in an election that was boycotted by the BNP and criticised by international observers. In 2017, after nearly a million Rohingya entered the country, fleeing genocide in Myanmar, Hasina received credit and praise for giving them refuge and assistance. She won her fourth term after the 2018 election, which was marred with violence and criticised by the opposition as being rigged. Having served for a combined total of over 19 years, she is the longest serving prime minister in the history of Bangladesh. As of 24 August 2023, she is the world's longest-serving female head of government in history.[5][6][7]\n",
    "'''\n",
    "print(paragraph)"
   ]
  },
  {
   "cell_type": "markdown",
   "metadata": {},
   "source": [
    "#### tokenized the paragraphn ,remove the stopwords from the tokenized words and then set into the value of new_paragraph"
   ]
  },
  {
   "cell_type": "code",
   "execution_count": 15,
   "metadata": {},
   "outputs": [
    {
     "name": "stdout",
     "output_type": "stream",
     "text": [
      "Hasina ; born 28 September 1947 ) Bangladeshi politician served prime minister Bangladesh since January 2009 . Sheikh Hasina among Time 's 100 influential people world 2018 . [ 1 ] autocratic regime Hussain Muhammad Ershad came end , Hasina , leader Awami League ( AL ) , daughter founding father first president Bangladesh , Bangabandhu Sheikh Mujibur Rahman , lost 1991 election Khaleda Zia , collaborated Ershad . [ 2 ] [ 3 ] leader opposition , Hasina accused Zia 's Bangladesh Nationalist Party ( BNP ) electoral dishonesty boycotted parliament , followed violent demonstrations political turmoil . [ 4 ] Zia resigned caretaker government , followed Hasina becoming prime minister June 1996 election . country began experience economic growth reduction poverty , remained political tumult first term , ended July 2001 electoral defeat Zia . first full five-year term Bangladeshi prime minister since became independent country . 2006–2008 political crisis , Hasina detained extortion charges . release jail , 2008 election . 2014 , re-elected third term election boycotted BNP criticised international observers . 2017 , nearly million Rohingya entered country , fleeing genocide Myanmar , Hasina received credit praise giving refuge assistance . fourth term 2018 election , marred violence criticised opposition rigged . served combined total 19 years , longest serving prime minister history Bangladesh . 24 August 2023 , world 's longest-serving female head government history . [ 5 ] [ 6 ] [ 7 ]\n"
     ]
    }
   ],
   "source": [
    "import nltk\n",
    "# Tokenize the paragraph into words\n",
    "words = nltk.word_tokenize(paragraph)\n",
    "\n",
    "# Get the set of English stopwords\n",
    "stop_words = set(stopwords.words('english'))\n",
    "\n",
    "# Filter out stopwords\n",
    "new_paragraph = [word for word in words if word.lower() not in stop_words]\n",
    "\n",
    "# Reconstruct the paragraph without stopwords\n",
    "new_paragraph = ' '.join(new_paragraph)\n",
    "\n",
    "print(new_paragraph)"
   ]
  },
  {
   "cell_type": "code",
   "execution_count": 16,
   "metadata": {},
   "outputs": [
    {
     "name": "stderr",
     "output_type": "stream",
     "text": [
      "[nltk_data] Downloading package punkt to /Users/asifa/nltk_data...\n",
      "[nltk_data]   Package punkt is already up-to-date!\n"
     ]
    },
    {
     "data": {
      "text/plain": [
       "True"
      ]
     },
     "execution_count": 16,
     "metadata": {},
     "output_type": "execute_result"
    }
   ],
   "source": [
    "##tokenization-convert paragraph-sentence-words\n",
    "import ssl\n",
    "\n",
    "try:\n",
    "    _create_unverified_https_context = ssl._create_unverified_context\n",
    "except AttributeError:\n",
    "    pass\n",
    "else:\n",
    "    ssl._create_default_https_context = _create_unverified_https_context\n",
    "nltk.download('punkt')"
   ]
  },
  {
   "cell_type": "code",
   "execution_count": 17,
   "metadata": {},
   "outputs": [
    {
     "data": {
      "text/plain": [
       "\"Hasina ; born 28 September 1947 ) Bangladeshi politician served prime minister Bangladesh since January 2009 . Sheikh Hasina among Time 's 100 influential people world 2018 . [ 1 ] autocratic regime Hussain Muhammad Ershad came end , Hasina , leader Awami League ( AL ) , daughter founding father first president Bangladesh , Bangabandhu Sheikh Mujibur Rahman , lost 1991 election Khaleda Zia , collaborated Ershad . [ 2 ] [ 3 ] leader opposition , Hasina accused Zia 's Bangladesh Nationalist Party ( BNP ) electoral dishonesty boycotted parliament , followed violent demonstrations political turmoil . [ 4 ] Zia resigned caretaker government , followed Hasina becoming prime minister June 1996 election . country began experience economic growth reduction poverty , remained political tumult first term , ended July 2001 electoral defeat Zia . first full five-year term Bangladeshi prime minister since became independent country . 2006–2008 political crisis , Hasina detained extortion charges . release jail , 2008 election . 2014 , re-elected third term election boycotted BNP criticised international observers . 2017 , nearly million Rohingya entered country , fleeing genocide Myanmar , Hasina received credit praise giving refuge assistance . fourth term 2018 election , marred violence criticised opposition rigged . served combined total 19 years , longest serving prime minister history Bangladesh . 24 August 2023 , world 's longest-serving female head government history . [ 5 ] [ 6 ] [ 7 ]\""
      ]
     },
     "execution_count": 17,
     "metadata": {},
     "output_type": "execute_result"
    }
   ],
   "source": [
    "new_paragraph"
   ]
  },
  {
   "cell_type": "markdown",
   "metadata": {},
   "source": [
    "### convert the paragraph into sentences"
   ]
  },
  {
   "cell_type": "code",
   "execution_count": 18,
   "metadata": {},
   "outputs": [
    {
     "data": {
      "text/plain": [
       "['Hasina ; born 28 September 1947 ) Bangladeshi politician served prime minister Bangladesh since January 2009 .',\n",
       " \"Sheikh Hasina among Time 's 100 influential people world 2018 .\",\n",
       " '[ 1 ] autocratic regime Hussain Muhammad Ershad came end , Hasina , leader Awami League ( AL ) , daughter founding father first president Bangladesh , Bangabandhu Sheikh Mujibur Rahman , lost 1991 election Khaleda Zia , collaborated Ershad .',\n",
       " \"[ 2 ] [ 3 ] leader opposition , Hasina accused Zia 's Bangladesh Nationalist Party ( BNP ) electoral dishonesty boycotted parliament , followed violent demonstrations political turmoil .\",\n",
       " '[ 4 ] Zia resigned caretaker government , followed Hasina becoming prime minister June 1996 election .',\n",
       " 'country began experience economic growth reduction poverty , remained political tumult first term , ended July 2001 electoral defeat Zia .',\n",
       " 'first full five-year term Bangladeshi prime minister since became independent country .',\n",
       " '2006–2008 political crisis , Hasina detained extortion charges .',\n",
       " 'release jail , 2008 election .',\n",
       " '2014 , re-elected third term election boycotted BNP criticised international observers .',\n",
       " '2017 , nearly million Rohingya entered country , fleeing genocide Myanmar , Hasina received credit praise giving refuge assistance .',\n",
       " 'fourth term 2018 election , marred violence criticised opposition rigged .',\n",
       " 'served combined total 19 years , longest serving prime minister history Bangladesh .',\n",
       " \"24 August 2023 , world 's longest-serving female head government history .\",\n",
       " '[ 5 ] [ 6 ] [ 7 ]']"
      ]
     },
     "execution_count": 18,
     "metadata": {},
     "output_type": "execute_result"
    }
   ],
   "source": [
    "\n",
    "sentences=nltk.sent_tokenize(new_paragraph)\n",
    "sentences"
   ]
  },
  {
   "cell_type": "code",
   "execution_count": 19,
   "metadata": {},
   "outputs": [
    {
     "data": {
      "text/plain": [
       "list"
      ]
     },
     "execution_count": 19,
     "metadata": {},
     "output_type": "execute_result"
    }
   ],
   "source": [
    "type(sentences)"
   ]
  },
  {
   "cell_type": "code",
   "execution_count": 20,
   "metadata": {},
   "outputs": [
    {
     "name": "stderr",
     "output_type": "stream",
     "text": [
      "[nltk_data] Downloading package wordnet to /Users/asifa/nltk_data...\n",
      "[nltk_data]   Package wordnet is already up-to-date!\n"
     ]
    }
   ],
   "source": [
    "stemmer=PorterStemmer()\n",
    "nltk.download('wordnet')\n",
    "from nltk.stem import WordNetLemmatizer\n",
    "import re"
   ]
  },
  {
   "cell_type": "markdown",
   "metadata": {},
   "source": [
    "### remove regex"
   ]
  },
  {
   "cell_type": "code",
   "execution_count": 21,
   "metadata": {},
   "outputs": [],
   "source": [
    "corpus=[]\n",
    "for i in range (len(sentences)):\n",
    "    review = re.sub('[^a-zA-Z]', ' ', sentences[i])\n",
    "   # review = re.sub('[^a-zA-Z]', ' ', sentences[i])  # Corrected pattern for letters\n",
    "    review=review.lower()\n",
    "    corpus.append(review)"
   ]
  },
  {
   "cell_type": "code",
   "execution_count": 22,
   "metadata": {},
   "outputs": [
    {
     "data": {
      "text/plain": [
       "['hasina   born    september        bangladeshi politician served prime minister bangladesh since january       ',\n",
       " 'sheikh hasina among time  s     influential people world       ',\n",
       " '      autocratic regime hussain muhammad ershad came end   hasina   leader awami league   al     daughter founding father first president bangladesh   bangabandhu sheikh mujibur rahman   lost      election khaleda zia   collaborated ershad  ',\n",
       " '            leader opposition   hasina accused zia  s bangladesh nationalist party   bnp   electoral dishonesty boycotted parliament   followed violent demonstrations political turmoil  ',\n",
       " '      zia resigned caretaker government   followed hasina becoming prime minister june      election  ',\n",
       " 'country began experience economic growth reduction poverty   remained political tumult first term   ended july      electoral defeat zia  ',\n",
       " 'first full five year term bangladeshi prime minister since became independent country  ',\n",
       " '          political crisis   hasina detained extortion charges  ',\n",
       " 'release jail        election  ',\n",
       " '       re elected third term election boycotted bnp criticised international observers  ',\n",
       " '       nearly million rohingya entered country   fleeing genocide myanmar   hasina received credit praise giving refuge assistance  ',\n",
       " 'fourth term      election   marred violence criticised opposition rigged  ',\n",
       " 'served combined total    years   longest serving prime minister history bangladesh  ',\n",
       " '   august        world  s longest serving female head government history  ',\n",
       " '                 ']"
      ]
     },
     "execution_count": 22,
     "metadata": {},
     "output_type": "execute_result"
    }
   ],
   "source": [
    "corpus"
   ]
  },
  {
   "cell_type": "code",
   "execution_count": 23,
   "metadata": {},
   "outputs": [
    {
     "data": {
      "text/plain": [
       "list"
      ]
     },
     "execution_count": 23,
     "metadata": {},
     "output_type": "execute_result"
    }
   ],
   "source": [
    "type(corpus)"
   ]
  },
  {
   "cell_type": "code",
   "execution_count": 24,
   "metadata": {},
   "outputs": [
    {
     "name": "stdout",
     "output_type": "stream",
     "text": [
      "[['hasina', 'born', 'september', 'bangladeshi', 'politician', 'served', 'prime', 'minister', 'bangladesh', 'since', 'january'], ['sheikh', 'hasina', 'among', 'time', 's', 'influential', 'people', 'world'], ['autocratic', 'regime', 'hussain', 'muhammad', 'ershad', 'came', 'end', 'hasina', 'leader', 'awami', 'league', 'al', 'daughter', 'founding', 'father', 'first', 'president', 'bangladesh', 'bangabandhu', 'sheikh', 'mujibur', 'rahman', 'lost', 'election', 'khaleda', 'zia', 'collaborated', 'ershad'], ['leader', 'opposition', 'hasina', 'accused', 'zia', 's', 'bangladesh', 'nationalist', 'party', 'bnp', 'electoral', 'dishonesty', 'boycotted', 'parliament', 'followed', 'violent', 'demonstrations', 'political', 'turmoil'], ['zia', 'resigned', 'caretaker', 'government', 'followed', 'hasina', 'becoming', 'prime', 'minister', 'june', 'election'], ['country', 'began', 'experience', 'economic', 'growth', 'reduction', 'poverty', 'remained', 'political', 'tumult', 'first', 'term', 'ended', 'july', 'electoral', 'defeat', 'zia'], ['first', 'full', 'five', 'year', 'term', 'bangladeshi', 'prime', 'minister', 'since', 'became', 'independent', 'country'], ['political', 'crisis', 'hasina', 'detained', 'extortion', 'charges'], ['release', 'jail', 'election'], ['re', 'elected', 'third', 'term', 'election', 'boycotted', 'bnp', 'criticised', 'international', 'observers'], ['nearly', 'million', 'rohingya', 'entered', 'country', 'fleeing', 'genocide', 'myanmar', 'hasina', 'received', 'credit', 'praise', 'giving', 'refuge', 'assistance'], ['fourth', 'term', 'election', 'marred', 'violence', 'criticised', 'opposition', 'rigged'], ['served', 'combined', 'total', 'years', 'longest', 'serving', 'prime', 'minister', 'history', 'bangladesh'], ['august', 'world', 's', 'longest', 'serving', 'female', 'head', 'government', 'history'], []]\n"
     ]
    }
   ],
   "source": [
    "import nltk\n",
    "from nltk.tokenize import word_tokenize\n",
    "tokenized_corpus = [word_tokenize(sentence) for sentence in corpus]\n",
    "print(tokenized_corpus)\n",
    "#for idx, tokens in enumerate(tokenized_corpus, start=1):\n",
    " #   print(f\"Sentence {idx} tokens:\", tokens)"
   ]
  },
  {
   "cell_type": "code",
   "execution_count": 25,
   "metadata": {},
   "outputs": [],
   "source": [
    "stemmed_words=[]\n",
    "for sentence in corpus:\n",
    "    words=nltk.word_tokenize(sentence)\n",
    "    \n",
    "    for word in words:\n",
    "        if word not in set(stopwords.words('english')):\n",
    "            stemmed_word=stemmer.stem(word)\n",
    "            stemmed_words.append(stemmed_word)\n"
   ]
  },
  {
   "cell_type": "code",
   "execution_count": 26,
   "metadata": {},
   "outputs": [
    {
     "name": "stdout",
     "output_type": "stream",
     "text": [
      "['hasina', 'born', 'septemb', 'bangladeshi', 'politician', 'serv', 'prime', 'minist', 'bangladesh', 'sinc', 'januari', 'sheikh', 'hasina', 'among', 'time', 'influenti', 'peopl', 'world', 'autocrat', 'regim', 'hussain', 'muhammad', 'ershad', 'came', 'end', 'hasina', 'leader', 'awami', 'leagu', 'al', 'daughter', 'found', 'father', 'first', 'presid', 'bangladesh', 'bangabandhu', 'sheikh', 'mujibur', 'rahman', 'lost', 'elect', 'khaleda', 'zia', 'collabor', 'ershad', 'leader', 'opposit', 'hasina', 'accus', 'zia', 'bangladesh', 'nationalist', 'parti', 'bnp', 'elector', 'dishonesti', 'boycot', 'parliament', 'follow', 'violent', 'demonstr', 'polit', 'turmoil', 'zia', 'resign', 'caretak', 'govern', 'follow', 'hasina', 'becom', 'prime', 'minist', 'june', 'elect', 'countri', 'began', 'experi', 'econom', 'growth', 'reduct', 'poverti', 'remain', 'polit', 'tumult', 'first', 'term', 'end', 'juli', 'elector', 'defeat', 'zia', 'first', 'full', 'five', 'year', 'term', 'bangladeshi', 'prime', 'minist', 'sinc', 'becam', 'independ', 'countri', 'polit', 'crisi', 'hasina', 'detain', 'extort', 'charg', 'releas', 'jail', 'elect', 'elect', 'third', 'term', 'elect', 'boycot', 'bnp', 'criticis', 'intern', 'observ', 'nearli', 'million', 'rohingya', 'enter', 'countri', 'flee', 'genocid', 'myanmar', 'hasina', 'receiv', 'credit', 'prais', 'give', 'refug', 'assist', 'fourth', 'term', 'elect', 'mar', 'violenc', 'criticis', 'opposit', 'rig', 'serv', 'combin', 'total', 'year', 'longest', 'serv', 'prime', 'minist', 'histori', 'bangladesh', 'august', 'world', 'longest', 'serv', 'femal', 'head', 'govern', 'histori']\n"
     ]
    }
   ],
   "source": [
    "print(stemmed_words)"
   ]
  },
  {
   "cell_type": "code",
   "execution_count": 27,
   "metadata": {},
   "outputs": [],
   "source": [
    "#lemmatization\n",
    "\n",
    "lemmatized_words=[]\n",
    "for sentence in corpus:\n",
    "    words=nltk.word_tokenize(sentence)\n",
    "    for word in words:\n",
    "        if word not in set(stopwords.words('english')):\n",
    "            lemmatized_word=lemmatizer.lemmatize(word)\n",
    "            lemmatized_words.append(lemmatized_word)"
   ]
  },
  {
   "cell_type": "code",
   "execution_count": 28,
   "metadata": {},
   "outputs": [
    {
     "data": {
      "text/plain": [
       "'bangladeshi'"
      ]
     },
     "execution_count": 28,
     "metadata": {},
     "output_type": "execute_result"
    }
   ],
   "source": [
    "lemmatizer.lemmatize('bangladeshi')"
   ]
  },
  {
   "cell_type": "code",
   "execution_count": 29,
   "metadata": {},
   "outputs": [
    {
     "data": {
      "text/plain": [
       "['hasina',\n",
       " 'born',\n",
       " 'september',\n",
       " 'bangladeshi',\n",
       " 'politician',\n",
       " 'served',\n",
       " 'prime',\n",
       " 'minister',\n",
       " 'bangladesh',\n",
       " 'since',\n",
       " 'january',\n",
       " 'sheikh',\n",
       " 'hasina',\n",
       " 'among',\n",
       " 'time',\n",
       " 'influential',\n",
       " 'people',\n",
       " 'world',\n",
       " 'autocratic',\n",
       " 'regime',\n",
       " 'hussain',\n",
       " 'muhammad',\n",
       " 'ershad',\n",
       " 'came',\n",
       " 'end',\n",
       " 'hasina',\n",
       " 'leader',\n",
       " 'awami',\n",
       " 'league',\n",
       " 'al',\n",
       " 'daughter',\n",
       " 'founding',\n",
       " 'father',\n",
       " 'first',\n",
       " 'president',\n",
       " 'bangladesh',\n",
       " 'bangabandhu',\n",
       " 'sheikh',\n",
       " 'mujibur',\n",
       " 'rahman',\n",
       " 'lost',\n",
       " 'election',\n",
       " 'khaleda',\n",
       " 'zia',\n",
       " 'collaborated',\n",
       " 'ershad',\n",
       " 'leader',\n",
       " 'opposition',\n",
       " 'hasina',\n",
       " 'accused',\n",
       " 'zia',\n",
       " 'bangladesh',\n",
       " 'nationalist',\n",
       " 'party',\n",
       " 'bnp',\n",
       " 'electoral',\n",
       " 'dishonesty',\n",
       " 'boycotted',\n",
       " 'parliament',\n",
       " 'followed',\n",
       " 'violent',\n",
       " 'demonstration',\n",
       " 'political',\n",
       " 'turmoil',\n",
       " 'zia',\n",
       " 'resigned',\n",
       " 'caretaker',\n",
       " 'government',\n",
       " 'followed',\n",
       " 'hasina',\n",
       " 'becoming',\n",
       " 'prime',\n",
       " 'minister',\n",
       " 'june',\n",
       " 'election',\n",
       " 'country',\n",
       " 'began',\n",
       " 'experience',\n",
       " 'economic',\n",
       " 'growth',\n",
       " 'reduction',\n",
       " 'poverty',\n",
       " 'remained',\n",
       " 'political',\n",
       " 'tumult',\n",
       " 'first',\n",
       " 'term',\n",
       " 'ended',\n",
       " 'july',\n",
       " 'electoral',\n",
       " 'defeat',\n",
       " 'zia',\n",
       " 'first',\n",
       " 'full',\n",
       " 'five',\n",
       " 'year',\n",
       " 'term',\n",
       " 'bangladeshi',\n",
       " 'prime',\n",
       " 'minister',\n",
       " 'since',\n",
       " 'became',\n",
       " 'independent',\n",
       " 'country',\n",
       " 'political',\n",
       " 'crisis',\n",
       " 'hasina',\n",
       " 'detained',\n",
       " 'extortion',\n",
       " 'charge',\n",
       " 'release',\n",
       " 'jail',\n",
       " 'election',\n",
       " 'elected',\n",
       " 'third',\n",
       " 'term',\n",
       " 'election',\n",
       " 'boycotted',\n",
       " 'bnp',\n",
       " 'criticised',\n",
       " 'international',\n",
       " 'observer',\n",
       " 'nearly',\n",
       " 'million',\n",
       " 'rohingya',\n",
       " 'entered',\n",
       " 'country',\n",
       " 'fleeing',\n",
       " 'genocide',\n",
       " 'myanmar',\n",
       " 'hasina',\n",
       " 'received',\n",
       " 'credit',\n",
       " 'praise',\n",
       " 'giving',\n",
       " 'refuge',\n",
       " 'assistance',\n",
       " 'fourth',\n",
       " 'term',\n",
       " 'election',\n",
       " 'marred',\n",
       " 'violence',\n",
       " 'criticised',\n",
       " 'opposition',\n",
       " 'rigged',\n",
       " 'served',\n",
       " 'combined',\n",
       " 'total',\n",
       " 'year',\n",
       " 'longest',\n",
       " 'serving',\n",
       " 'prime',\n",
       " 'minister',\n",
       " 'history',\n",
       " 'bangladesh',\n",
       " 'august',\n",
       " 'world',\n",
       " 'longest',\n",
       " 'serving',\n",
       " 'female',\n",
       " 'head',\n",
       " 'government',\n",
       " 'history']"
      ]
     },
     "execution_count": 29,
     "metadata": {},
     "output_type": "execute_result"
    }
   ],
   "source": [
    "lemmatized_words"
   ]
  },
  {
   "cell_type": "markdown",
   "metadata": {},
   "source": [
    "# PART 2"
   ]
  },
  {
   "cell_type": "markdown",
   "metadata": {},
   "source": [
    "#### BAG OD WORDS"
   ]
  },
  {
   "cell_type": "code",
   "execution_count": 30,
   "metadata": {},
   "outputs": [
    {
     "data": {
      "text/plain": [
       "['hasina   born    september        bangladeshi politician served prime minister bangladesh since january       ',\n",
       " 'sheikh hasina among time  s     influential people world       ',\n",
       " '      autocratic regime hussain muhammad ershad came end   hasina   leader awami league   al     daughter founding father first president bangladesh   bangabandhu sheikh mujibur rahman   lost      election khaleda zia   collaborated ershad  ',\n",
       " '            leader opposition   hasina accused zia  s bangladesh nationalist party   bnp   electoral dishonesty boycotted parliament   followed violent demonstrations political turmoil  ',\n",
       " '      zia resigned caretaker government   followed hasina becoming prime minister june      election  ',\n",
       " 'country began experience economic growth reduction poverty   remained political tumult first term   ended july      electoral defeat zia  ',\n",
       " 'first full five year term bangladeshi prime minister since became independent country  ',\n",
       " '          political crisis   hasina detained extortion charges  ',\n",
       " 'release jail        election  ',\n",
       " '       re elected third term election boycotted bnp criticised international observers  ',\n",
       " '       nearly million rohingya entered country   fleeing genocide myanmar   hasina received credit praise giving refuge assistance  ',\n",
       " 'fourth term      election   marred violence criticised opposition rigged  ',\n",
       " 'served combined total    years   longest serving prime minister history bangladesh  ',\n",
       " '   august        world  s longest serving female head government history  ',\n",
       " '                 ']"
      ]
     },
     "execution_count": 30,
     "metadata": {},
     "output_type": "execute_result"
    }
   ],
   "source": [
    "corpus"
   ]
  },
  {
   "cell_type": "markdown",
   "metadata": {},
   "source": [
    "#### It is Providing the index of the words"
   ]
  },
  {
   "cell_type": "code",
   "execution_count": 31,
   "metadata": {},
   "outputs": [
    {
     "data": {
      "text/plain": [
       "{'hasina': 53,\n",
       " 'born': 14,\n",
       " 'september': 99,\n",
       " 'bangladeshi': 9,\n",
       " 'politician': 83,\n",
       " 'served': 100,\n",
       " 'prime': 87,\n",
       " 'minister': 71,\n",
       " 'bangladesh': 8,\n",
       " 'since': 103,\n",
       " 'january': 61,\n",
       " 'sheikh': 102,\n",
       " 'among': 2,\n",
       " 'time': 106,\n",
       " 'influential': 58,\n",
       " 'people': 81,\n",
       " 'world': 112,\n",
       " 'autocratic': 5,\n",
       " 'regime': 93,\n",
       " 'hussain': 56,\n",
       " 'muhammad': 72,\n",
       " 'ershad': 37,\n",
       " 'came': 16,\n",
       " 'end': 34,\n",
       " 'leader': 65,\n",
       " 'awami': 6,\n",
       " 'league': 66,\n",
       " 'al': 1,\n",
       " 'daughter': 25,\n",
       " 'founding': 46,\n",
       " 'father': 40,\n",
       " 'first': 42,\n",
       " 'president': 86,\n",
       " 'bangabandhu': 7,\n",
       " 'mujibur': 73,\n",
       " 'rahman': 88,\n",
       " 'lost': 68,\n",
       " 'election': 32,\n",
       " 'khaleda': 64,\n",
       " 'zia': 115,\n",
       " 'collaborated': 19,\n",
       " 'opposition': 78,\n",
       " 'accused': 0,\n",
       " 'nationalist': 75,\n",
       " 'party': 80,\n",
       " 'bnp': 13,\n",
       " 'electoral': 33,\n",
       " 'dishonesty': 29,\n",
       " 'boycotted': 15,\n",
       " 'parliament': 79,\n",
       " 'followed': 45,\n",
       " 'violent': 111,\n",
       " 'demonstrations': 27,\n",
       " 'political': 82,\n",
       " 'turmoil': 109,\n",
       " 'resigned': 96,\n",
       " 'caretaker': 17,\n",
       " 'government': 51,\n",
       " 'becoming': 11,\n",
       " 'june': 63,\n",
       " 'country': 21,\n",
       " 'began': 12,\n",
       " 'experience': 38,\n",
       " 'economic': 30,\n",
       " 'growth': 52,\n",
       " 'reduction': 91,\n",
       " 'poverty': 84,\n",
       " 'remained': 95,\n",
       " 'tumult': 108,\n",
       " 'term': 104,\n",
       " 'ended': 35,\n",
       " 'july': 62,\n",
       " 'defeat': 26,\n",
       " 'full': 48,\n",
       " 'five': 43,\n",
       " 'year': 113,\n",
       " 'became': 10,\n",
       " 'independent': 57,\n",
       " 'crisis': 23,\n",
       " 'detained': 28,\n",
       " 'extortion': 39,\n",
       " 'charges': 18,\n",
       " 'release': 94,\n",
       " 'jail': 60,\n",
       " 're': 89,\n",
       " 'elected': 31,\n",
       " 'third': 105,\n",
       " 'criticised': 24,\n",
       " 'international': 59,\n",
       " 'observers': 77,\n",
       " 'nearly': 76,\n",
       " 'million': 70,\n",
       " 'rohingya': 98,\n",
       " 'entered': 36,\n",
       " 'fleeing': 44,\n",
       " 'genocide': 49,\n",
       " 'myanmar': 74,\n",
       " 'received': 90,\n",
       " 'credit': 22,\n",
       " 'praise': 85,\n",
       " 'giving': 50,\n",
       " 'refuge': 92,\n",
       " 'assistance': 3,\n",
       " 'fourth': 47,\n",
       " 'marred': 69,\n",
       " 'violence': 110,\n",
       " 'rigged': 97,\n",
       " 'combined': 20,\n",
       " 'total': 107,\n",
       " 'years': 114,\n",
       " 'longest': 67,\n",
       " 'serving': 101,\n",
       " 'history': 55,\n",
       " 'august': 4,\n",
       " 'female': 41,\n",
       " 'head': 54}"
      ]
     },
     "execution_count": 31,
     "metadata": {},
     "output_type": "execute_result"
    }
   ],
   "source": [
    "from sklearn.feature_extraction.text import CountVectorizer\n",
    "cv=CountVectorizer(binary=True,ngram_range=(1,1))\n",
    "X=cv.fit_transform(corpus)\n",
    "cv.vocabulary_"
   ]
  },
  {
   "cell_type": "code",
   "execution_count": 32,
   "metadata": {},
   "outputs": [
    {
     "data": {
      "text/plain": [
       "'sheikh hasina among time  s     influential people world       '"
      ]
     },
     "execution_count": 32,
     "metadata": {},
     "output_type": "execute_result"
    }
   ],
   "source": [
    "corpus[1]"
   ]
  },
  {
   "cell_type": "markdown",
   "metadata": {},
   "source": [
    "#### as here you can see in array[2] it is showing 1. means: in sentence 1 (corpus[1]) has a words which index is 2. 'among': 2 \n",
    " "
   ]
  },
  {
   "cell_type": "code",
   "execution_count": 33,
   "metadata": {},
   "outputs": [
    {
     "data": {
      "text/plain": [
       "array([[0, 0, 1, 0, 0, 0, 0, 0, 0, 0, 0, 0, 0, 0, 0, 0, 0, 0, 0, 0, 0, 0,\n",
       "        0, 0, 0, 0, 0, 0, 0, 0, 0, 0, 0, 0, 0, 0, 0, 0, 0, 0, 0, 0, 0, 0,\n",
       "        0, 0, 0, 0, 0, 0, 0, 0, 0, 1, 0, 0, 0, 0, 1, 0, 0, 0, 0, 0, 0, 0,\n",
       "        0, 0, 0, 0, 0, 0, 0, 0, 0, 0, 0, 0, 0, 0, 0, 1, 0, 0, 0, 0, 0, 0,\n",
       "        0, 0, 0, 0, 0, 0, 0, 0, 0, 0, 0, 0, 0, 0, 1, 0, 0, 0, 1, 0, 0, 0,\n",
       "        0, 0, 1, 0, 0, 0]])"
      ]
     },
     "execution_count": 33,
     "metadata": {},
     "output_type": "execute_result"
    }
   ],
   "source": [
    "X[1].toarray()"
   ]
  },
  {
   "cell_type": "markdown",
   "metadata": {},
   "source": [
    "# PART 3"
   ]
  },
  {
   "cell_type": "code",
   "execution_count": 34,
   "metadata": {},
   "outputs": [
    {
     "data": {
      "text/plain": [
       "'sheikh hasina among time  s     influential people world       '"
      ]
     },
     "execution_count": 34,
     "metadata": {},
     "output_type": "execute_result"
    }
   ],
   "source": [
    "corpus[1]"
   ]
  },
  {
   "cell_type": "code",
   "execution_count": 35,
   "metadata": {},
   "outputs": [],
   "source": [
    "from sklearn.feature_extraction.text import TfidfVectorizer\n",
    "cv=TfidfVectorizer()\n",
    "X=cv.fit_transform(corpus)"
   ]
  },
  {
   "cell_type": "code",
   "execution_count": 36,
   "metadata": {},
   "outputs": [
    {
     "data": {
      "text/plain": [
       "array([[0.        , 0.        , 0.41485903, 0.        , 0.        ,\n",
       "        0.        , 0.        , 0.        , 0.        , 0.        ,\n",
       "        0.        , 0.        , 0.        , 0.        , 0.        ,\n",
       "        0.        , 0.        , 0.        , 0.        , 0.        ,\n",
       "        0.        , 0.        , 0.        , 0.        , 0.        ,\n",
       "        0.        , 0.        , 0.        , 0.        , 0.        ,\n",
       "        0.        , 0.        , 0.        , 0.        , 0.        ,\n",
       "        0.        , 0.        , 0.        , 0.        , 0.        ,\n",
       "        0.        , 0.        , 0.        , 0.        , 0.        ,\n",
       "        0.        , 0.        , 0.        , 0.        , 0.        ,\n",
       "        0.        , 0.        , 0.        , 0.22809895, 0.        ,\n",
       "        0.        , 0.        , 0.        , 0.41485903, 0.        ,\n",
       "        0.        , 0.        , 0.        , 0.        , 0.        ,\n",
       "        0.        , 0.        , 0.        , 0.        , 0.        ,\n",
       "        0.        , 0.        , 0.        , 0.        , 0.        ,\n",
       "        0.        , 0.        , 0.        , 0.        , 0.        ,\n",
       "        0.        , 0.41485903, 0.        , 0.        , 0.        ,\n",
       "        0.        , 0.        , 0.        , 0.        , 0.        ,\n",
       "        0.        , 0.        , 0.        , 0.        , 0.        ,\n",
       "        0.        , 0.        , 0.        , 0.        , 0.        ,\n",
       "        0.        , 0.        , 0.36023521, 0.        , 0.        ,\n",
       "        0.        , 0.41485903, 0.        , 0.        , 0.        ,\n",
       "        0.        , 0.        , 0.36023521, 0.        , 0.        ,\n",
       "        0.        ]])"
      ]
     },
     "execution_count": 36,
     "metadata": {},
     "output_type": "execute_result"
    }
   ],
   "source": [
    "X[1].toarray()"
   ]
  },
  {
   "cell_type": "markdown",
   "metadata": {},
   "source": [
    "##### ngram_range(3,3) means  it makes group like \n",
    "##### sjeikh hasina among,hasina among time, among time s,....\n",
    "##### nggram_tange(2,3) : it works twogram and trigram  like sheikh hasina,hasina among,among time,sjeikh hasina among,hasina among time, among time s,....\n",
    "##### max_features = n : the words occured atmost n times"
   ]
  },
  {
   "cell_type": "code",
   "execution_count": 37,
   "metadata": {},
   "outputs": [],
   "source": [
    "cv=TfidfVectorizer(ngram_range=(2,2),max_features=10)\n",
    "X=cv.fit_transform(corpus)"
   ]
  },
  {
   "cell_type": "code",
   "execution_count": 38,
   "metadata": {},
   "outputs": [
    {
     "data": {
      "text/plain": [
       "{'prime minister': 8,\n",
       " 'muhammad ershad': 2,\n",
       " 'mujibur rahman': 3,\n",
       " 'opposition hasina': 7,\n",
       " 'accused zia': 0,\n",
       " 'nationalist party': 5,\n",
       " 'term election': 9,\n",
       " 'nearly million': 6,\n",
       " 'myanmar hasina': 4,\n",
       " 'longest serving': 1}"
      ]
     },
     "execution_count": 38,
     "metadata": {},
     "output_type": "execute_result"
    }
   ],
   "source": [
    "cv.vocabulary_"
   ]
  },
  {
   "cell_type": "code",
   "execution_count": 39,
   "metadata": {},
   "outputs": [
    {
     "data": {
      "text/plain": [
       "'hasina   born    september        bangladeshi politician served prime minister bangladesh since january       '"
      ]
     },
     "execution_count": 39,
     "metadata": {},
     "output_type": "execute_result"
    }
   ],
   "source": [
    "corpus[0]"
   ]
  },
  {
   "cell_type": "code",
   "execution_count": 40,
   "metadata": {},
   "outputs": [
    {
     "data": {
      "text/plain": [
       "array([[0.57735027, 0.        , 0.        , 0.        , 0.        ,\n",
       "        0.57735027, 0.        , 0.57735027, 0.        , 0.        ]])"
      ]
     },
     "execution_count": 40,
     "metadata": {},
     "output_type": "execute_result"
    }
   ],
   "source": [
    "X[3].toarray()"
   ]
  },
  {
   "cell_type": "markdown",
   "metadata": {},
   "source": [
    "# PART 4"
   ]
  },
  {
   "cell_type": "code",
   "execution_count": 41,
   "metadata": {},
   "outputs": [
    {
     "name": "stdout",
     "output_type": "stream",
     "text": [
      "Requirement already satisfied: gensim in /Library/Frameworks/Python.framework/Versions/3.11/lib/python3.11/site-packages (4.3.2)\n",
      "Requirement already satisfied: numpy>=1.18.5 in /Library/Frameworks/Python.framework/Versions/3.11/lib/python3.11/site-packages (from gensim) (1.25.0)\n",
      "Requirement already satisfied: scipy>=1.7.0 in /Library/Frameworks/Python.framework/Versions/3.11/lib/python3.11/site-packages (from gensim) (1.11.2)\n",
      "Requirement already satisfied: smart-open>=1.8.1 in /Library/Frameworks/Python.framework/Versions/3.11/lib/python3.11/site-packages (from gensim) (6.3.0)\n"
     ]
    }
   ],
   "source": [
    "!pip install gensim"
   ]
  },
  {
   "cell_type": "code",
   "execution_count": 1,
   "metadata": {},
   "outputs": [],
   "source": [
    "import gensim"
   ]
  },
  {
   "cell_type": "code",
   "execution_count": 2,
   "metadata": {},
   "outputs": [],
   "source": [
    "from gensim.models import Word2Vec, KeyedVectors\n",
    "import gensim.downloader as api\n",
    "\n",
    "wv = api.load('word2vec-google-news-300')"
   ]
  },
  {
   "cell_type": "code",
   "execution_count": 3,
   "metadata": {},
   "outputs": [
    {
     "data": {
      "text/plain": [
       "array([ 1.25976562e-01,  2.97851562e-02,  8.60595703e-03,  1.39648438e-01,\n",
       "       -2.56347656e-02, -3.61328125e-02,  1.11816406e-01, -1.98242188e-01,\n",
       "        5.12695312e-02,  3.63281250e-01, -2.42187500e-01, -3.02734375e-01,\n",
       "       -1.77734375e-01, -2.49023438e-02, -1.67968750e-01, -1.69921875e-01,\n",
       "        3.46679688e-02,  5.21850586e-03,  4.63867188e-02,  1.28906250e-01,\n",
       "        1.36718750e-01,  1.12792969e-01,  5.95703125e-02,  1.36718750e-01,\n",
       "        1.01074219e-01, -1.76757812e-01, -2.51953125e-01,  5.98144531e-02,\n",
       "        3.41796875e-01, -3.11279297e-02,  1.04492188e-01,  6.17675781e-02,\n",
       "        1.24511719e-01,  4.00390625e-01, -3.22265625e-01,  8.39843750e-02,\n",
       "        3.90625000e-02,  5.85937500e-03,  7.03125000e-02,  1.72851562e-01,\n",
       "        1.38671875e-01, -2.31445312e-01,  2.83203125e-01,  1.42578125e-01,\n",
       "        3.41796875e-01, -2.39257812e-02, -1.09863281e-01,  3.32031250e-02,\n",
       "       -5.46875000e-02,  1.53198242e-02, -1.62109375e-01,  1.58203125e-01,\n",
       "       -2.59765625e-01,  2.01416016e-02, -1.63085938e-01,  1.35803223e-03,\n",
       "       -1.44531250e-01, -5.68847656e-02,  4.29687500e-02, -2.46582031e-02,\n",
       "        1.85546875e-01,  4.47265625e-01,  9.58251953e-03,  1.31835938e-01,\n",
       "        9.86328125e-02, -1.85546875e-01, -1.00097656e-01, -1.33789062e-01,\n",
       "       -1.25000000e-01,  2.83203125e-01,  1.23046875e-01,  5.32226562e-02,\n",
       "       -1.77734375e-01,  8.59375000e-02, -2.18505859e-02,  2.05078125e-02,\n",
       "       -1.39648438e-01,  2.51464844e-02,  1.38671875e-01, -1.05468750e-01,\n",
       "        1.38671875e-01,  8.88671875e-02, -7.51953125e-02, -2.13623047e-02,\n",
       "        1.72851562e-01,  4.63867188e-02, -2.65625000e-01,  8.91113281e-03,\n",
       "        1.49414062e-01,  3.78417969e-02,  2.38281250e-01, -1.24511719e-01,\n",
       "       -2.17773438e-01, -1.81640625e-01,  2.97851562e-02,  5.71289062e-02,\n",
       "       -2.89306641e-02,  1.24511719e-02,  9.66796875e-02, -2.31445312e-01,\n",
       "        5.81054688e-02,  6.68945312e-02,  7.08007812e-02, -3.08593750e-01,\n",
       "       -2.14843750e-01,  1.45507812e-01, -4.27734375e-01, -9.39941406e-03,\n",
       "        1.54296875e-01, -7.66601562e-02,  2.89062500e-01,  2.77343750e-01,\n",
       "       -4.86373901e-04, -1.36718750e-01,  3.24218750e-01, -2.46093750e-01,\n",
       "       -3.03649902e-03, -2.11914062e-01,  1.25000000e-01,  2.69531250e-01,\n",
       "        2.04101562e-01,  8.25195312e-02, -2.01171875e-01, -1.60156250e-01,\n",
       "       -3.78417969e-02, -1.20117188e-01,  1.15234375e-01, -4.10156250e-02,\n",
       "       -3.95507812e-02, -8.98437500e-02,  6.34765625e-03,  2.03125000e-01,\n",
       "        1.86523438e-01,  2.73437500e-01,  6.29882812e-02,  1.41601562e-01,\n",
       "       -9.81445312e-02,  1.38671875e-01,  1.82617188e-01,  1.73828125e-01,\n",
       "        1.73828125e-01, -2.37304688e-01,  1.78710938e-01,  6.34765625e-02,\n",
       "        2.36328125e-01, -2.08984375e-01,  8.74023438e-02, -1.66015625e-01,\n",
       "       -7.91015625e-02,  2.43164062e-01, -8.88671875e-02,  1.26953125e-01,\n",
       "       -2.16796875e-01, -1.73828125e-01, -3.59375000e-01, -8.25195312e-02,\n",
       "       -6.49414062e-02,  5.07812500e-02,  1.35742188e-01, -7.47070312e-02,\n",
       "       -1.64062500e-01,  1.15356445e-02,  4.45312500e-01, -2.15820312e-01,\n",
       "       -1.11328125e-01, -1.92382812e-01,  1.70898438e-01, -1.25000000e-01,\n",
       "        2.65502930e-03,  1.92382812e-01, -1.74804688e-01,  1.39648438e-01,\n",
       "        2.92968750e-01,  1.13281250e-01,  5.95703125e-02, -6.39648438e-02,\n",
       "        9.96093750e-02, -2.72216797e-02,  1.96533203e-02,  4.27246094e-02,\n",
       "       -2.46093750e-01,  6.39648438e-02, -2.25585938e-01, -1.68945312e-01,\n",
       "        2.89916992e-03,  8.20312500e-02,  3.41796875e-01,  4.32128906e-02,\n",
       "        1.32812500e-01,  1.42578125e-01,  7.61718750e-02,  5.98144531e-02,\n",
       "       -1.19140625e-01,  2.74658203e-03, -6.29882812e-02, -2.72216797e-02,\n",
       "       -4.82177734e-03, -8.20312500e-02, -2.49023438e-02, -4.00390625e-01,\n",
       "       -1.06933594e-01,  4.24804688e-02,  7.76367188e-02, -1.16699219e-01,\n",
       "        7.37304688e-02, -9.22851562e-02,  1.07910156e-01,  1.58203125e-01,\n",
       "        4.24804688e-02,  1.26953125e-01,  3.61328125e-02,  2.67578125e-01,\n",
       "       -1.01074219e-01, -3.02734375e-01, -5.76171875e-02,  5.05371094e-02,\n",
       "        5.26428223e-04, -2.07031250e-01, -1.38671875e-01, -8.97216797e-03,\n",
       "       -2.78320312e-02, -1.41601562e-01,  2.07031250e-01, -1.58203125e-01,\n",
       "        1.27929688e-01,  1.49414062e-01, -2.24609375e-02, -8.44726562e-02,\n",
       "        1.22558594e-01,  2.15820312e-01, -2.13867188e-01, -3.12500000e-01,\n",
       "       -3.73046875e-01,  4.08935547e-03,  1.07421875e-01,  1.06933594e-01,\n",
       "        7.32421875e-02,  8.97216797e-03, -3.88183594e-02, -1.29882812e-01,\n",
       "        1.49414062e-01, -2.14843750e-01, -1.83868408e-03,  9.91210938e-02,\n",
       "        1.57226562e-01, -1.14257812e-01, -2.05078125e-01,  9.91210938e-02,\n",
       "        3.69140625e-01, -1.97265625e-01,  3.54003906e-02,  1.09375000e-01,\n",
       "        1.31835938e-01,  1.66992188e-01,  2.35351562e-01,  1.04980469e-01,\n",
       "       -4.96093750e-01, -1.64062500e-01, -1.56250000e-01, -5.22460938e-02,\n",
       "        1.03027344e-01,  2.43164062e-01, -1.88476562e-01,  5.07812500e-02,\n",
       "       -9.37500000e-02, -6.68945312e-02,  2.27050781e-02,  7.61718750e-02,\n",
       "        2.89062500e-01,  3.10546875e-01, -5.37109375e-02,  2.28515625e-01,\n",
       "        2.51464844e-02,  6.78710938e-02, -1.21093750e-01, -2.15820312e-01,\n",
       "       -2.73437500e-01, -3.07617188e-02, -3.37890625e-01,  1.53320312e-01,\n",
       "        2.33398438e-01, -2.08007812e-01,  3.73046875e-01,  8.20312500e-02,\n",
       "        2.51953125e-01, -7.61718750e-02, -4.66308594e-02, -2.23388672e-02,\n",
       "        2.99072266e-02, -5.93261719e-02, -4.66918945e-03, -2.44140625e-01,\n",
       "       -2.09960938e-01, -2.87109375e-01, -4.54101562e-02, -1.77734375e-01,\n",
       "       -2.79296875e-01, -8.59375000e-02,  9.13085938e-02,  2.51953125e-01],\n",
       "      dtype=float32)"
      ]
     },
     "execution_count": 3,
     "metadata": {},
     "output_type": "execute_result"
    }
   ],
   "source": [
    "vec_king = wv['king']\n",
    "vec_king"
   ]
  },
  {
   "cell_type": "code",
   "execution_count": 4,
   "metadata": {},
   "outputs": [
    {
     "data": {
      "text/plain": [
       "(300,)"
      ]
     },
     "execution_count": 4,
     "metadata": {},
     "output_type": "execute_result"
    }
   ],
   "source": [
    "vec_king.shape"
   ]
  },
  {
   "cell_type": "code",
   "execution_count": 5,
   "metadata": {},
   "outputs": [
    {
     "data": {
      "text/plain": [
       "array([-3.67187500e-01, -1.21582031e-01,  2.85156250e-01,  8.15429688e-02,\n",
       "        3.19824219e-02, -3.19824219e-02,  1.34765625e-01, -2.73437500e-01,\n",
       "        9.46044922e-03, -1.07421875e-01,  2.48046875e-01, -6.05468750e-01,\n",
       "        5.02929688e-02,  2.98828125e-01,  9.57031250e-02,  1.39648438e-01,\n",
       "       -5.41992188e-02,  2.91015625e-01,  2.85156250e-01,  1.51367188e-01,\n",
       "       -2.89062500e-01, -3.46679688e-02,  1.81884766e-02, -3.92578125e-01,\n",
       "        2.46093750e-01,  2.51953125e-01, -9.86328125e-02,  3.22265625e-01,\n",
       "        4.49218750e-01, -1.36718750e-01, -2.34375000e-01,  4.12597656e-02,\n",
       "       -2.15820312e-01,  1.69921875e-01,  2.56347656e-02,  1.50146484e-02,\n",
       "       -3.75976562e-02,  6.95800781e-03,  4.00390625e-01,  2.09960938e-01,\n",
       "        1.17675781e-01, -4.19921875e-02,  2.34375000e-01,  2.03125000e-01,\n",
       "       -1.86523438e-01, -2.46093750e-01,  3.12500000e-01, -2.59765625e-01,\n",
       "       -1.06933594e-01,  1.04003906e-01, -1.79687500e-01,  5.71289062e-02,\n",
       "       -7.41577148e-03, -5.59082031e-02,  7.61718750e-02, -4.14062500e-01,\n",
       "       -3.65234375e-01, -3.35937500e-01, -1.54296875e-01, -2.39257812e-01,\n",
       "       -3.73046875e-01,  2.27355957e-03, -3.51562500e-01,  8.64257812e-02,\n",
       "        1.26953125e-01,  2.21679688e-01, -9.86328125e-02,  1.08886719e-01,\n",
       "        3.65234375e-01, -5.66406250e-02,  5.66406250e-02, -1.09375000e-01,\n",
       "       -1.66992188e-01, -4.54101562e-02, -2.00195312e-01, -1.22558594e-01,\n",
       "        1.31835938e-01, -1.31835938e-01,  1.03027344e-01, -3.41796875e-01,\n",
       "       -1.57226562e-01,  2.04101562e-01,  4.39453125e-02,  2.44140625e-01,\n",
       "       -3.19824219e-02,  3.20312500e-01, -4.41894531e-02,  1.08398438e-01,\n",
       "       -4.98046875e-02, -9.52148438e-03,  2.46093750e-01, -5.59082031e-02,\n",
       "        4.07714844e-02, -1.78222656e-02, -2.95410156e-02,  1.65039062e-01,\n",
       "        5.03906250e-01, -2.81250000e-01,  9.81445312e-02,  1.80664062e-02,\n",
       "       -1.83593750e-01,  2.53906250e-01,  2.25585938e-01,  1.63574219e-02,\n",
       "        1.81640625e-01,  1.38671875e-01,  3.33984375e-01,  1.39648438e-01,\n",
       "        1.45874023e-02, -2.89306641e-02, -8.39843750e-02,  1.50390625e-01,\n",
       "        1.67968750e-01,  2.28515625e-01,  3.59375000e-01,  1.22558594e-01,\n",
       "       -3.28125000e-01, -1.56250000e-01,  2.77343750e-01,  1.77001953e-02,\n",
       "       -1.46484375e-01, -4.51660156e-03, -4.46777344e-02,  1.75781250e-01,\n",
       "       -3.75000000e-01,  1.16699219e-01, -1.39648438e-01,  2.55859375e-01,\n",
       "       -1.96289062e-01, -2.57568359e-02, -5.41992188e-02, -2.51464844e-02,\n",
       "       -1.93359375e-01, -3.17382812e-02, -8.74023438e-02, -1.32812500e-01,\n",
       "       -2.12402344e-02,  4.33593750e-01, -5.20019531e-02,  3.46679688e-02,\n",
       "        8.00781250e-02,  3.41796875e-02,  1.99218750e-01, -2.39257812e-02,\n",
       "       -2.37304688e-01,  1.93359375e-01,  7.32421875e-02, -2.87109375e-01,\n",
       "        1.25000000e-01,  8.44726562e-02,  1.30859375e-01, -2.19726562e-01,\n",
       "       -1.61132812e-01, -2.63671875e-01, -5.46875000e-01, -2.96875000e-01,\n",
       "        3.44238281e-02, -2.87109375e-01, -1.93359375e-01, -1.61132812e-01,\n",
       "       -3.84765625e-01, -2.14843750e-01, -6.22558594e-03, -1.27929688e-01,\n",
       "       -1.00097656e-01, -6.21093750e-01,  3.78906250e-01, -4.58984375e-01,\n",
       "        1.44531250e-01, -9.13085938e-02, -3.08593750e-01,  2.23632812e-01,\n",
       "        7.86132812e-02, -2.16796875e-01,  8.78906250e-02, -1.66992188e-01,\n",
       "        1.14746094e-02, -2.53906250e-01, -6.25000000e-02,  6.04248047e-03,\n",
       "        1.56250000e-01,  4.37500000e-01, -2.23632812e-01, -2.32421875e-01,\n",
       "        2.75390625e-01,  2.39257812e-01,  4.49218750e-02, -7.51953125e-02,\n",
       "        5.74218750e-01, -2.61230469e-02, -1.21582031e-01,  2.44140625e-01,\n",
       "       -3.37890625e-01,  8.59375000e-02, -7.71484375e-02,  4.85839844e-02,\n",
       "        1.43554688e-01,  4.25781250e-01, -4.29687500e-02, -1.08398438e-01,\n",
       "        1.19628906e-01, -1.91406250e-01, -2.12890625e-01, -2.87109375e-01,\n",
       "       -1.14746094e-01, -2.04101562e-01, -2.06298828e-02, -2.53906250e-01,\n",
       "        8.25195312e-02, -3.97949219e-02, -1.57226562e-01,  1.34765625e-01,\n",
       "        2.08007812e-01, -1.78710938e-01, -2.00195312e-02, -8.34960938e-02,\n",
       "       -1.20605469e-01,  4.29687500e-02, -1.94335938e-01, -1.32812500e-01,\n",
       "       -2.17285156e-02, -2.35351562e-01, -3.63281250e-01,  1.51367188e-01,\n",
       "        9.32617188e-02,  1.63085938e-01,  1.02050781e-01, -4.27734375e-01,\n",
       "        2.83203125e-01,  2.74658203e-04, -3.20312500e-01,  1.68457031e-02,\n",
       "        4.06250000e-01, -5.24902344e-02,  7.91015625e-02, -1.41601562e-01,\n",
       "        5.27343750e-01, -1.26953125e-01,  4.74609375e-01, -6.64062500e-02,\n",
       "        3.41796875e-01, -1.78710938e-01,  3.69140625e-01, -2.05078125e-01,\n",
       "        5.82885742e-03, -1.84570312e-01, -8.88671875e-02, -1.81640625e-01,\n",
       "       -4.80957031e-02,  4.39453125e-01,  2.12890625e-01, -3.07617188e-02,\n",
       "        9.32617188e-02,  2.40234375e-01,  2.39257812e-01,  2.51953125e-01,\n",
       "       -1.98974609e-02,  1.24511719e-01, -4.73632812e-02, -2.13623047e-02,\n",
       "        3.12500000e-02,  3.05175781e-02,  2.79296875e-01,  9.08203125e-02,\n",
       "       -2.02148438e-01, -2.19726562e-02, -2.63671875e-01,  8.78906250e-02,\n",
       "       -1.07421875e-01, -2.49023438e-01, -1.22070312e-02,  1.73828125e-01,\n",
       "       -9.91210938e-02,  7.27539062e-02,  2.59765625e-01, -4.60937500e-01,\n",
       "        3.59375000e-01, -2.25585938e-01,  1.87988281e-02, -2.19726562e-01,\n",
       "       -2.08984375e-01, -1.51367188e-01,  8.64257812e-02,  1.11694336e-02,\n",
       "        6.93359375e-02, -2.99072266e-02,  1.43554688e-01,  1.89453125e-01,\n",
       "       -1.32812500e-01,  4.72656250e-01, -1.40625000e-01, -2.52685547e-02,\n",
       "        1.91406250e-01, -2.63671875e-01, -1.39648438e-01,  1.09375000e-01,\n",
       "        1.97753906e-02,  2.49023438e-01, -1.42578125e-01,  4.15039062e-02],\n",
       "      dtype=float32)"
      ]
     },
     "execution_count": 5,
     "metadata": {},
     "output_type": "execute_result"
    }
   ],
   "source": [
    "wv['cricket']"
   ]
  },
  {
   "cell_type": "code",
   "execution_count": 6,
   "metadata": {},
   "outputs": [
    {
     "data": {
      "text/plain": [
       "[('cricketing', 0.8372225761413574),\n",
       " ('cricketers', 0.8165745735168457),\n",
       " ('Test_cricket', 0.8094819188117981),\n",
       " ('Twenty##_cricket', 0.8068488240242004),\n",
       " ('Twenty##', 0.7624265551567078),\n",
       " ('Cricket', 0.75413978099823),\n",
       " ('cricketer', 0.7372578382492065),\n",
       " ('twenty##', 0.7316356897354126),\n",
       " ('T##_cricket', 0.7304614186286926),\n",
       " ('West_Indies_cricket', 0.6987985968589783)]"
      ]
     },
     "execution_count": 6,
     "metadata": {},
     "output_type": "execute_result"
    }
   ],
   "source": [
    "wv.most_similar('cricket')"
   ]
  },
  {
   "cell_type": "code",
   "execution_count": null,
   "metadata": {},
   "outputs": [],
   "source": [
    "wv.similarity(\"hockey\",\"sports\")"
   ]
  },
  {
   "cell_type": "code",
   "execution_count": null,
   "metadata": {},
   "outputs": [],
   "source": [
    "vec=wv['king']-wv['man']+wv['woman']\n",
    "vec"
   ]
  },
  {
   "cell_type": "code",
   "execution_count": null,
   "metadata": {},
   "outputs": [],
   "source": [
    "wv.most_similar([vec])"
   ]
  }
 ],
 "metadata": {
  "kernelspec": {
   "display_name": "Python 3",
   "language": "python",
   "name": "python3"
  },
  "language_info": {
   "codemirror_mode": {
    "name": "ipython",
    "version": 3
   },
   "file_extension": ".py",
   "mimetype": "text/x-python",
   "name": "python",
   "nbconvert_exporter": "python",
   "pygments_lexer": "ipython3",
   "version": "3.11.4"
  },
  "orig_nbformat": 4
 },
 "nbformat": 4,
 "nbformat_minor": 2
}
